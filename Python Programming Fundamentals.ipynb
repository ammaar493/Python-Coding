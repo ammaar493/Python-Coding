{
 "cells": [
  {
   "cell_type": "markdown",
   "id": "9ab91797",
   "metadata": {},
   "source": [
    "# Conditional Statements"
   ]
  },
  {
   "cell_type": "markdown",
   "id": "952aa7e9",
   "metadata": {},
   "source": [
    "## Operators\n",
    "There are two types of operators coditional and logical operators. Conditional operators are equal, not equal, greater than, less than, greater than or equal to, and less than or equal to. Logical operators are not, and, or."
   ]
  },
  {
   "cell_type": "markdown",
   "id": "b56a95a7",
   "metadata": {},
   "source": [
    "### Conditional operators\n",
    "List of coditional operators <br>\n",
    "- Equal to written as $==$ (As we know $=$ is an assignment)\n",
    "- Not equal to written as $!=$\n",
    "- Greater than $>$\n",
    "- Less than $<$\n",
    "- Greater than or equal to $>=$\n",
    "- Less than or equal to $<=$\n"
   ]
  },
  {
   "cell_type": "code",
   "execution_count": 4,
   "id": "53a26a28",
   "metadata": {},
   "outputs": [
    {
     "name": "stdout",
     "output_type": "stream",
     "text": [
      "False\n",
      "True\n"
     ]
    }
   ],
   "source": [
    "# Equal to ==\n",
    "\n",
    "a = 1 # Assigning value 1 to variable a of type int\n",
    "print(a == 2) # When condition is false result will be False\n",
    "print(a == 1) # When condition is true result will be True"
   ]
  },
  {
   "cell_type": "code",
   "execution_count": 6,
   "id": "b21db6ed",
   "metadata": {},
   "outputs": [
    {
     "name": "stdout",
     "output_type": "stream",
     "text": [
      "False\n",
      "True\n"
     ]
    }
   ],
   "source": [
    "# Not equal to !=\n",
    "\n",
    "a = 1 # Assigning value 1 to variable a of type int\n",
    "print(a != 1) # When condition is false result will be False\n",
    "print(a != 2) # When condition is true result will be True"
   ]
  },
  {
   "cell_type": "code",
   "execution_count": 7,
   "id": "cf9384a7",
   "metadata": {},
   "outputs": [
    {
     "name": "stdout",
     "output_type": "stream",
     "text": [
      "False\n",
      "True\n"
     ]
    }
   ],
   "source": [
    "# Greater than >\n",
    "\n",
    "a = 2 # Assigning value 1 to variable a of type int\n",
    "print(a > 2) # When condition is false result will be False\n",
    "print(a > 1) # When condition is true result will be True"
   ]
  },
  {
   "cell_type": "code",
   "execution_count": 9,
   "id": "e923d7ca",
   "metadata": {},
   "outputs": [
    {
     "name": "stdout",
     "output_type": "stream",
     "text": [
      "False\n",
      "True\n"
     ]
    }
   ],
   "source": [
    "# Less than <\n",
    "\n",
    "a = 1 # Assigning value 1 to variable a of type int\n",
    "print(a < 1) # When condition is false result will be False\n",
    "print(a < 2) # When condition is true result will be True"
   ]
  },
  {
   "cell_type": "code",
   "execution_count": 11,
   "id": "4bc68f18",
   "metadata": {},
   "outputs": [
    {
     "name": "stdout",
     "output_type": "stream",
     "text": [
      "False\n",
      "True\n"
     ]
    }
   ],
   "source": [
    "# Greater than or equal to ==\n",
    "\n",
    "a = 2 # Assigning value 1 to variable a of type int\n",
    "print(a >= 3) # When condition is false result will be False\n",
    "print(a >= 2) # When condition is true result will be True"
   ]
  },
  {
   "cell_type": "code",
   "execution_count": 12,
   "id": "ebaf7d3b",
   "metadata": {},
   "outputs": [
    {
     "name": "stdout",
     "output_type": "stream",
     "text": [
      "False\n",
      "True\n"
     ]
    }
   ],
   "source": [
    "# Less than or equal to ==\n",
    "\n",
    "a = 2 # Assigning value 1 to variable a of type int\n",
    "print(a <= 1) # When condition is false result will be False\n",
    "print(a <= 3) # When condition is true result will be True"
   ]
  },
  {
   "cell_type": "markdown",
   "id": "5bdb79c6",
   "metadata": {},
   "source": [
    "Before start discussing logical operators lets have some discussion on conditional statements"
   ]
  },
  {
   "cell_type": "markdown",
   "id": "73425ae6",
   "metadata": {},
   "source": [
    "## IF and Else statements\n",
    "\n",
    "IF is block statement if the condition is true then execute the block, and if the else block is defined then execute else block. We can have condition within the condition called nested if else."
   ]
  },
  {
   "cell_type": "code",
   "execution_count": 20,
   "id": "7297752e",
   "metadata": {},
   "outputs": [
    {
     "name": "stdout",
     "output_type": "stream",
     "text": [
      "If block executed\n"
     ]
    }
   ],
   "source": [
    "a = 4 # Assigning value 4 to variable a\n",
    "\n",
    "if (a == 4): # If the condition is true this block is executed\n",
    "    print(\"If block executed\")"
   ]
  },
  {
   "cell_type": "code",
   "execution_count": 24,
   "id": "e32f83e4",
   "metadata": {},
   "outputs": [
    {
     "name": "stdout",
     "output_type": "stream",
     "text": [
      "Else block executed\n"
     ]
    }
   ],
   "source": [
    "a = 3 # Assigning value to variable\n",
    "\n",
    "if a == 4: # If the condition is true this block is executed\n",
    "    print(\"If block executed\")\n",
    "else: # If the condition is false this block is executed\n",
    "    print(\"Else block executed\")"
   ]
  },
  {
   "cell_type": "code",
   "execution_count": 25,
   "id": "51076ddf",
   "metadata": {},
   "outputs": [
    {
     "name": "stdout",
     "output_type": "stream",
     "text": [
      "Else if block executed\n"
     ]
    }
   ],
   "source": [
    "a = 3 # Assigning value to variable\n",
    "\n",
    "if a == 4: # If the condition is true this block is executed\n",
    "    print(\"If block executed\")\n",
    "elif a < 4: # If the upper condition is false and this condition is true then this block is executed\n",
    "    print(\"Else if block executed\")\n",
    "else: # If both conditions are false this block is executed\n",
    "    print(\"Else block executed\")"
   ]
  },
  {
   "cell_type": "markdown",
   "id": "9e89fde9",
   "metadata": {},
   "source": [
    "### Logical operators\n",
    "List of logical operators <br>\n",
    "- not\n",
    "- and\n",
    "- or"
   ]
  },
  {
   "cell_type": "code",
   "execution_count": 32,
   "id": "230f15e1",
   "metadata": {},
   "outputs": [
    {
     "name": "stdout",
     "output_type": "stream",
     "text": [
      "If block\n"
     ]
    }
   ],
   "source": [
    "a = 5 \n",
    "b = 6\n",
    "c = 7\n",
    "\n",
    "if a == 5 and b != 5: # If 'a' equals to 5 and 'b' is not equals to 5 this block will be executed.\n",
    "    print(\"If block\")\n",
    "elif b == 6 or a != b:\n",
    "    print(\"Else if block\")\n",
    "else:\n",
    "    print(\"Else block\")"
   ]
  },
  {
   "cell_type": "code",
   "execution_count": 38,
   "id": "583cb389",
   "metadata": {},
   "outputs": [
    {
     "name": "stdout",
     "output_type": "stream",
     "text": [
      "Else if block\n"
     ]
    }
   ],
   "source": [
    "if a == 5 and b == 5: # If 'a' equals to 5 and 'b' is equals to 5 this block will be executed.\n",
    "    print(\"If block\")\n",
    "elif b == 6 or a != b: # If 'b' equals to 6 or 'a' is not equal to b, in any case one condition is true then this block will be executed.\n",
    "    print(\"Else if block\")\n",
    "else:\n",
    "    print(\"Else block\")"
   ]
  },
  {
   "cell_type": "code",
   "execution_count": 39,
   "id": "6305109a",
   "metadata": {},
   "outputs": [
    {
     "name": "stdout",
     "output_type": "stream",
     "text": [
      "Else block\n"
     ]
    }
   ],
   "source": [
    "if a == 5 and b == 5: # If 'a' equals to 5 and 'b' is not equals to 5 this block will be executed.\n",
    "    print(\"If block\")\n",
    "elif b == 5 or a == b:# If 'b' equals to 5 or 'a' is equal to b then this block will be executed.\n",
    "    print(\"Else if block\")\n",
    "else: # If both upper conditions are false then this block will be executed.\n",
    "    print(\"Else block\")"
   ]
  },
  {
   "cell_type": "code",
   "execution_count": null,
   "id": "0329c3b4",
   "metadata": {},
   "outputs": [],
   "source": []
  }
 ],
 "metadata": {
  "kernelspec": {
   "display_name": "Python 3",
   "language": "python",
   "name": "python3"
  },
  "language_info": {
   "codemirror_mode": {
    "name": "ipython",
    "version": 3
   },
   "file_extension": ".py",
   "mimetype": "text/x-python",
   "name": "python",
   "nbconvert_exporter": "python",
   "pygments_lexer": "ipython3",
   "version": "3.8.8"
  }
 },
 "nbformat": 4,
 "nbformat_minor": 5
}
